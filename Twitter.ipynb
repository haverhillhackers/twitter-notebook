{
 "cells": [
  {
   "cell_type": "code",
   "execution_count": 1,
   "metadata": {
    "collapsed": true
   },
   "outputs": [],
   "source": [
    "consumer_key = 'T3QhPV7otWknk0JPblPCAOAsJ'"
   ]
  },
  {
   "cell_type": "code",
   "execution_count": 2,
   "metadata": {
    "collapsed": true
   },
   "outputs": [],
   "source": [
    "consumer_secret = 'xjoUNRwHK7vj767pbgXo3Gy3iFgzvw4icKKz8D9QhsXiKgnvdi'"
   ]
  },
  {
   "cell_type": "code",
   "execution_count": 3,
   "metadata": {
    "collapsed": true
   },
   "outputs": [],
   "source": [
    "access_token = '18055441-b8xgjaxapDOLCMgclTCAYKuToS8BvZa3zwKyrwoSy'"
   ]
  },
  {
   "cell_type": "code",
   "execution_count": 4,
   "metadata": {
    "collapsed": true
   },
   "outputs": [],
   "source": [
    "access_token_secret = 'uVLD5OwW7PJVd07tARu0AO3DsasEfZJ7I7bx1Iu21APt5'"
   ]
  },
  {
   "cell_type": "markdown",
   "metadata": {},
   "source": [
    "# Setup Twitter API."
   ]
  },
  {
   "cell_type": "markdown",
   "metadata": {},
   "source": [
    "Read documentation from - https://github.com/geduldig/TwitterAPI"
   ]
  },
  {
   "cell_type": "code",
   "execution_count": 5,
   "metadata": {
    "collapsed": true
   },
   "outputs": [],
   "source": [
    "from TwitterAPI import TwitterAPI"
   ]
  },
  {
   "cell_type": "code",
   "execution_count": 6,
   "metadata": {
    "collapsed": false
   },
   "outputs": [],
   "source": [
    "api = TwitterAPI(consumer_key, consumer_secret, access_token, access_token_secret)"
   ]
  },
  {
   "cell_type": "code",
   "execution_count": 7,
   "metadata": {
    "collapsed": false
   },
   "outputs": [
    {
     "data": {
      "text/plain": [
       "['__class__',\n",
       " '__delattr__',\n",
       " '__dict__',\n",
       " '__dir__',\n",
       " '__doc__',\n",
       " '__eq__',\n",
       " '__format__',\n",
       " '__ge__',\n",
       " '__getattribute__',\n",
       " '__gt__',\n",
       " '__hash__',\n",
       " '__init__',\n",
       " '__le__',\n",
       " '__lt__',\n",
       " '__module__',\n",
       " '__ne__',\n",
       " '__new__',\n",
       " '__reduce__',\n",
       " '__reduce_ex__',\n",
       " '__repr__',\n",
       " '__setattr__',\n",
       " '__sizeof__',\n",
       " '__str__',\n",
       " '__subclasshook__',\n",
       " '__weakref__',\n",
       " '_get_endpoint',\n",
       " '_prepare_url',\n",
       " 'auth',\n",
       " 'proxies',\n",
       " 'request']"
      ]
     },
     "execution_count": 7,
     "metadata": {},
     "output_type": "execute_result"
    }
   ],
   "source": [
    "dir(api)"
   ]
  },
  {
   "cell_type": "markdown",
   "metadata": {},
   "source": [
    "Twitter documentation for the Streaming API - https://dev.twitter.com/streaming/public"
   ]
  },
  {
   "cell_type": "code",
   "execution_count": 8,
   "metadata": {
    "collapsed": true
   },
   "outputs": [],
   "source": [
    "r = api.request('statuses/sample')"
   ]
  },
  {
   "cell_type": "code",
   "execution_count": 9,
   "metadata": {
    "collapsed": false
   },
   "outputs": [
    {
     "name": "stdout",
     "output_type": "stream",
     "text": [
      "0\n",
      "1\n",
      "2\n",
      "3\n",
      "4\n",
      "5\n",
      "6\n",
      "7\n",
      "8\n",
      "9\n"
     ]
    }
   ],
   "source": [
    "for x in range(0,10):\n",
    "    print(x)"
   ]
  },
  {
   "cell_type": "code",
   "execution_count": 10,
   "metadata": {
    "collapsed": false
   },
   "outputs": [
    {
     "name": "stdout",
     "output_type": "stream",
     "text": [
      "@sumariumcom @JoseColinaP @Veppex1 Denunciar a los familiares que usan como testaferros y tambien estan escondidos en EEUU fuera de Miami\n",
      "RT @LilGlolita: watching my boyfriend that doesn't know he's my boyfriend flirt with other girls and disrespecting me https://t.co/q4yD82my…\n",
      "これから、多くの方が会社や学校帰りに異性とラブホテルに寄り、気持ちいいBF3を楽しむのでしょう。\n",
      "RT @stardustancient: Completely pointless https://t.co/GMz9PClIPZ\n",
      "You right🤕 https://t.co/eOJtrfVRlX\n",
      "Tourmaster Dri-Mesh Glove Black https://t.co/1ctTZqSPy9 https://t.co/AKKrXNHTuP\n",
      "Ayy https://t.co/1EptGxxw3R\n",
      "@HlMOUTO 田村かわいい！！！(1276回目) https://t.co/ROt7iG6uBX\n",
      "kINTO YOU\n",
      "\n",
      "#ArianatorsBoxLFS\n",
      "#KCAArgentina #ArianaGrande\n",
      "kINTO YOU\n",
      "\n",
      "#ArianatorsBoxLFS\n",
      "#KCAArgentina #ArianaGrande\n",
      "RT @pembeaydin187: #ErdoganVoiceofTheOppressed Reis konuşur sen öyle bakakalirsin Dünya 5Ten Büyüktür https://t.co/pvTL9nkGe8\n",
      "https://t.co/CIUUqB7eXF\n",
      "kINTO YOU\n",
      "\n",
      "#ArianatorsBoxLFS\n",
      "#KCAArgentina #ArianaGrande\n",
      "RT @roalvesdasilva: angelina e brad xxente comassim? https://t.co/e954eM3uPP\n",
      "kINTO YOU\n",
      "\n",
      "#ArianatorsBoxLFS\n",
      "#KCAArgentina #ArianaGrande\n",
      "59 ATK 20 segundos a 8 de enero otra Stevenbomb ;____;\n",
      "RT @LuulirEDLP: Arrepiento de haberlas elegido como mis amigas, mas que eso, mis hermanas, a pesar de que las trate para el orrto siempre e…\n",
      "RT @Iatenightvibess: so ready for fall for sweater weather, hot chocolate, scary movies, pumpkin spice scented/flavored things, flannel wea…\n",
      "RT @Guerrilla4Feb: Palabras de Trabajador de .@MetrobusLara al Gobernador Henri Falcón  #NuestraVictoriaLaPaz #ContactoConMaduro67 .@Nicola…\n",
      "Live the Ashley way 😂\n",
      "@luccasnetobr o contente esta se descabelando\n",
      "RT @BlogDoPim: MORO ACEITA DENÚNCIA E LULA VIRA RÉU PELA SEGUNDA VEZ NA LAVA JATO. GRANDE MOMENTO! Exagerado é o esquema criminoso! Mas ui,…\n",
      "RT @Nudelas: https://t.co/WKirqNAigV\n",
      "RT @01_taraf: استغفرالله حتى يُزاح عنا الثقل\n",
      "حتى تخف النفسّ وينشرح الفؤاد\n",
      "@opiteve a ver y candelas a Raquel. Lo digo en el sentido de todos en su contra. Jaajajajaaja\n",
      "RT @idolshelpff: FOLLOW TRICK TODOS OS FANDOMS \n",
      "\n",
      "🖐  Siga quem retweetou \n",
      "🖐  Siga quem te seguiu \n",
      "🖐  Sem Unfollow\n",
      "\n",
      "Me siga e ative minhas no…\n",
      "Executivo relata nova propina que pode complicar Temer no TSE; VEJA JÁ https://t.co/bbF3MMsHWc\n",
      "RT @AnaBeatrizRR15: Cadê o tananana de Jesus Cristo?\n",
      "I don't really give a fuck if you pissed off\n",
      "// Mumei/Hozumi is waifu. My waifu.\n",
      "#WriterBot\n",
      "今日は仕事終わったらアキバ行く。ハードディスク空き容量なくて写真が保存できん…\n",
      "نيك بنوتة حلوة صدرها رهيب..https://t.co/mAVzg69UqK  https://t.co/GsmpqiEBAK wbV\n",
      "اغتصاب\n",
      "شفشفه\n",
      "شراميط\n",
      "225\n",
      "RT @maratonplatform: https://t.co/7a8E3Dm0dT\n",
      "RT @Dalbi95: 부산 지진대피소에 내진설계가 안되어있다니 열림교회 닫힘수준\n",
      "RT @3alb6: لُو دموعي ترجعك بكيت ألين تجف عيُوني ألين أموت ألين أنهلك راضي اتعب واتأذى عشانك لُوترجعك.\n",
      "Dieta começando amanhã, 3F's #virarmonstro\n",
      "RT @queenjiho: seventeen covering sorry sorry from pre-debut till now https://t.co/DjBfMbuCDp\n",
      "Who Single?\n",
      "\n",
      "#React\n",
      "سبحانك اللهم وبحمدك اشهد ان لاإله إلا الله أستغفره وأتوب إليه https://t.co/UmToz05nmX\n",
      "@ItsFanDubTime @Anonima192 @edd00chan aiñsss me sonrojo U//w//Ur\n",
      "昨日ポケモンが無課金で26レベルになったけど、次が200000って。。\n",
      "みんな良くやってるなー(´；ω；｀)\n",
      "!!!?????!!!!???????!!!!!??!?!!?!!!!??!?!! เอาจริง??????!!!!!!!!\n",
      "https://t.co/aR9mHcmdof\n",
      "kINTO YOU\n",
      "\n",
      "#ArianatorsBoxLFS\n",
      "#KCAArgentina #ArianaGrande\n",
      "Only for the trill\n",
      "RT @YuYa03ks: 【コスプレ】\n",
      "⚠︎一部捏造⚠︎\n",
      "マフィアF6vsマフィア六つ子\n",
      "\n",
      "集合\n",
      "\n",
      "配役＆アカウントはリプにて。\n",
      "\n",
      "photo by 柚様(@yuzuanyu00 )\n",
      "機材(カメラ&amp;ストロボ) ゆず胡椒様(@acpp6212 )\n",
      "\n",
      "Studio by 池袋マイ…\n",
      "@mediotiempo excelentes mosaicos de la afición\n"
     ]
    },
    {
     "ename": "KeyboardInterrupt",
     "evalue": "",
     "output_type": "error",
     "traceback": [
      "\u001b[0;31m---------------------------------------------------------------------------\u001b[0m",
      "\u001b[0;31mKeyboardInterrupt\u001b[0m                         Traceback (most recent call last)",
      "\u001b[0;32m<ipython-input-10-ccb8d3a62be5>\u001b[0m in \u001b[0;36m<module>\u001b[0;34m()\u001b[0m\n\u001b[1;32m      3\u001b[0m     \u001b[0;32mif\u001b[0m \u001b[0;34m'text'\u001b[0m \u001b[0;32min\u001b[0m \u001b[0mtweet\u001b[0m\u001b[0;34m:\u001b[0m\u001b[0;34m\u001b[0m\u001b[0m\n\u001b[1;32m      4\u001b[0m         \u001b[0mprint\u001b[0m\u001b[0;34m(\u001b[0m\u001b[0mtweet\u001b[0m\u001b[0;34m[\u001b[0m\u001b[0;34m'text'\u001b[0m\u001b[0;34m]\u001b[0m\u001b[0;34m)\u001b[0m\u001b[0;34m\u001b[0m\u001b[0m\n\u001b[0;32m----> 5\u001b[0;31m         \u001b[0msleep\u001b[0m\u001b[0;34m(\u001b[0m\u001b[0;36m1\u001b[0m\u001b[0;34m)\u001b[0m\u001b[0;34m\u001b[0m\u001b[0m\n\u001b[0m",
      "\u001b[0;31mKeyboardInterrupt\u001b[0m: "
     ]
    }
   ],
   "source": [
    "from time import sleep\n",
    "for tweet in r:\n",
    "    if 'text' in tweet:\n",
    "        print(tweet['text'])\n",
    "        sleep(1)"
   ]
  },
  {
   "cell_type": "code",
   "execution_count": null,
   "metadata": {
    "collapsed": true
   },
   "outputs": [],
   "source": []
  }
 ],
 "metadata": {
  "kernelspec": {
   "display_name": "Python 3",
   "language": "python",
   "name": "python3"
  },
  "language_info": {
   "codemirror_mode": {
    "name": "ipython",
    "version": 3
   },
   "file_extension": ".py",
   "mimetype": "text/x-python",
   "name": "python",
   "nbconvert_exporter": "python",
   "pygments_lexer": "ipython3",
   "version": "3.5.2"
  }
 },
 "nbformat": 4,
 "nbformat_minor": 1
}
